{
 "cells": [
  {
   "cell_type": "markdown",
   "metadata": {
    "id": "iNmCRnHKufMZ"
   },
   "source": [
    "# **Lab 5: Aspect-Based Sentiment Analysis (ABSA)**"
   ]
  },
  {
   "cell_type": "markdown",
   "metadata": {
    "id": "107Hp7wzuH6s"
   },
   "source": [
    "# Overview\n",
    "In this lab we are going to look into the practical part of aspect mining and aspect-based sentiment analysis. we will employ what we already learnt in the lecture and in previous labs and build on top of that to implement an aspect-based sentiment classifier. we are going to employ SEMEVAL 2016 dataset (https://alt.qcri.org/semeval2016/task5/; more info about the data in  https://aclanthology.org/S16-1002/) specifically resturant reviews. We will focus on:\n",
    "\n",
    "* Data loading and preprocessing\n",
    "* Data analysis\n",
    "* Apect Extraction Model development using rule-based approach\n",
    "* Aspect-based sentiment analysis model (aspect classification and sentiment/polarity classifcation)\n",
    "* Model Evaluation\n",
    "\n",
    "The dataset manually annotated for aspect sentiment towards given aspect category (entity), aspect terms (opinion target experision) and sentiment polarity.\n",
    "\n",
    "**Example**: The food was lousy - too sweet or too salty and the portions tiny.\n",
    "\n",
    "**Opinion 1**: target=\"food\" category=\"FOOD#QUALITY\" polarity=\"negative\"\n",
    "\n",
    "**Opinion 2**: target=\"portions\" category=\"FOOD#STYLE_OPTIONS\" polarity=\"negative\"\n",
    "\n",
    "\n",
    "The ABSA task has three main steps:\n",
    "\n",
    "**Step 1: Aspect Term Extraction**\n",
    "\n",
    "*   The task is to extract aspect terms presents in the given text. \n",
    "\n",
    "*Example:* The **food** was lousy - too sweet or too salty and the **portions** tiny.\n",
    "\n",
    "**Step 2: Aspect Category Classification**\n",
    "\n",
    "*   The task is to classify the extracted terms given an input sentence and a predefined set of aspects.\n",
    "\n",
    "*Example:* {FOOD#QUALITY and FOOD#STYLE_OPTIONS}\n",
    "\n",
    "**Step 3: Aspect Sentiment Classification**\n",
    "\n",
    "*   The task is to classify each identified category and opinion term inot on of the polarity labels: positive, negative, or neutral\n",
    "\n",
    "*Example:*  \n",
    "\n",
    "> food, FOOD#QUALITY -> negative\n",
    "\n",
    "> portions, FOOD#STYLE_OPTIONS -> negative"
   ]
  },
  {
   "cell_type": "markdown",
   "metadata": {
    "id": "uXGLNfbYWe1d"
   },
   "source": [
    "# Dataset\n",
    "\n",
    "SEMEVAL 2016 dataset, resturant reviews\n",
    "\n",
    "\n",
    "*Example:*\n",
    "\n",
    "```xml\n",
    "<?xml version=\"1.0\" encoding=\"UTF-8\" standalone=\"yes\"?>\n",
    "<Reviews>\n",
    "    <Review rid=\"1004293\">\n",
    "        <sentences>\n",
    "            <sentence id=\"1004293:0\">\n",
    "                <text>Judging from previous posts this used to be a good place, but not any longer.</text>\n",
    "                <Opinions>\n",
    "                    <Opinion target=\"place\" category=\"RESTAURANT#GENERAL\" polarity=\"negative\" from=\"51\" to=\"56\"/>\n",
    "                </Opinions>\n",
    "            </sentence>\n",
    "            <sentence id=\"1004293:1\">\n",
    "                <text>We, there were four of us, arrived at noon - the place was empty - and the staff acted like we were imposing on them and they were very rude.</text>\n",
    "                <Opinions>\n",
    "                    <Opinion target=\"staff\" category=\"SERVICE#GENERAL\" polarity=\"negative\" from=\"75\" to=\"80\"/>\n",
    "                </Opinions>\n",
    "            </sentence>\n",
    "        </sentences>\n",
    "    </Review>\n",
    "\n",
    "```"
   ]
  },
  {
   "cell_type": "markdown",
   "metadata": {
    "id": "NmrL2Ph9uweY"
   },
   "source": [
    "# 1. Data Loading"
   ]
  },
  {
   "cell_type": "code",
   "execution_count": 4,
   "metadata": {
    "colab": {
     "base_uri": "https://localhost:8080/"
    },
    "id": "LrRitqwJp-SI",
    "outputId": "6b63e59e-d446-446b-fddb-c98082a072f2"
   },
   "outputs": [
    {
     "name": "stdout",
     "output_type": "stream",
     "text": [
      "--2023-02-17 07:17:14--  https://raw.githubusercontent.com/davidsbatista/Aspect-Based-Sentiment-Analysis/master/datasets/ABSA-SemEval2016/Training_Data/ABSA16_Restaurants_Train_SB1_v2.xml\n",
      "Resolving raw.githubusercontent.com (raw.githubusercontent.com)... 185.199.108.133, 185.199.109.133, 185.199.110.133, ...\n",
      "Connecting to raw.githubusercontent.com (raw.githubusercontent.com)|185.199.108.133|:443... connected.\n",
      "HTTP request sent, awaiting response... 200 OK\n",
      "Length: 736558 (719K) [text/plain]\n",
      "Saving to: ‘ABSA16_Restaurants_Train_SB1_v2.xml’\n",
      "\n",
      "ABSA16_Restaurants_ 100%[===================>] 719.29K  --.-KB/s    in 0.03s   \n",
      "\n",
      "2023-02-17 07:17:14 (22.9 MB/s) - ‘ABSA16_Restaurants_Train_SB1_v2.xml’ saved [736558/736558]\n",
      "\n"
     ]
    }
   ],
   "source": [
    "#!wget https://raw.githubusercontent.com/davidsbatista/Aspect-Based-Sentiment-Analysis/master/datasets/ABSA-SemEval2016/Training_Data/ABSA16_Laptops_Train_SB1_v2.xml\n",
    "!wget https://raw.githubusercontent.com/davidsbatista/Aspect-Based-Sentiment-Analysis/master/datasets/ABSA-SemEval2016/Training_Data/ABSA16_Restaurants_Train_SB1_v2.xml"
   ]
  },
  {
   "cell_type": "code",
   "execution_count": 160,
   "metadata": {
    "colab": {
     "base_uri": "https://localhost:8080/"
    },
    "id": "a1lMa7z1jS3E",
    "outputId": "4aecc4ab-9f57-42ff-8a81-9f7c239588bb"
   },
   "outputs": [
    {
     "name": "stdout",
     "output_type": "stream",
     "text": [
      "ABSA16_Restaurants_Train_SB1_v2.xml  sample_data\n"
     ]
    }
   ],
   "source": [
    "!ls"
   ]
  },
  {
   "cell_type": "markdown",
   "metadata": {
    "id": "8fsItEqodXDb"
   },
   "source": [
    "# 1.1 Converting XML File into DataFrame"
   ]
  },
  {
   "cell_type": "code",
   "execution_count": 161,
   "metadata": {
    "id": "PDOJxQhqK5D6"
   },
   "outputs": [],
   "source": [
    "import pandas as pd \n",
    "from xml.etree import cElementTree as et\n",
    "parser = et.XMLParser(encoding='UTF-8')\n",
    "tree = et.parse('ABSA16_Restaurants_Train_SB1_v2.xml', parser=parser)\n",
    "root = tree.getroot()\n",
    "#et.dump(tree)"
   ]
  },
  {
   "cell_type": "code",
   "execution_count": 162,
   "metadata": {
    "id": "halKLwHm96Vm"
   },
   "outputs": [],
   "source": [
    "df_cols = [\"id\", \"text\", \"target_category_polarity\"]\n",
    "rows = []\n",
    "for review in root:\n",
    "  for sentences in review:\n",
    "    for sentence in sentences:\n",
    "      id = sentence.get('id')\n",
    "      text = sentence.find('text').text\n",
    "      target_category_polarity = []\n",
    "      for opinions in sentence:\n",
    "        for opinion in opinions:\n",
    "          target_category_polarity.append([opinion.get('target'), opinion.get('category'), opinion.get('polarity')])\n",
    "      rows.append({\"id\": id, \"text\": text, \"target_category_polarity\": target_category_polarity})\n",
    "dataset = pd.DataFrame(rows, columns = df_cols)"
   ]
  },
  {
   "cell_type": "code",
   "execution_count": 163,
   "metadata": {
    "colab": {
     "base_uri": "https://localhost:8080/",
     "height": 206
    },
    "id": "eK-N_1AynU9h",
    "outputId": "38236543-f966-41ee-b23e-1db70e517bd8"
   },
   "outputs": [
    {
     "data": {
      "text/html": [
       "\n",
       "  <div id=\"df-91f83ac4-6c7d-4277-906d-215b3875391d\">\n",
       "    <div class=\"colab-df-container\">\n",
       "      <div>\n",
       "<style scoped>\n",
       "    .dataframe tbody tr th:only-of-type {\n",
       "        vertical-align: middle;\n",
       "    }\n",
       "\n",
       "    .dataframe tbody tr th {\n",
       "        vertical-align: top;\n",
       "    }\n",
       "\n",
       "    .dataframe thead th {\n",
       "        text-align: right;\n",
       "    }\n",
       "</style>\n",
       "<table border=\"1\" class=\"dataframe\">\n",
       "  <thead>\n",
       "    <tr style=\"text-align: right;\">\n",
       "      <th></th>\n",
       "      <th>id</th>\n",
       "      <th>text</th>\n",
       "      <th>target_category_polarity</th>\n",
       "    </tr>\n",
       "  </thead>\n",
       "  <tbody>\n",
       "    <tr>\n",
       "      <th>0</th>\n",
       "      <td>1004293:0</td>\n",
       "      <td>Judging from previous posts this used to be a ...</td>\n",
       "      <td>[[place, RESTAURANT#GENERAL, negative]]</td>\n",
       "    </tr>\n",
       "    <tr>\n",
       "      <th>1</th>\n",
       "      <td>1004293:1</td>\n",
       "      <td>We, there were four of us, arrived at noon - t...</td>\n",
       "      <td>[[staff, SERVICE#GENERAL, negative]]</td>\n",
       "    </tr>\n",
       "    <tr>\n",
       "      <th>2</th>\n",
       "      <td>1004293:2</td>\n",
       "      <td>They never brought us complimentary noodles, i...</td>\n",
       "      <td>[[NULL, SERVICE#GENERAL, negative]]</td>\n",
       "    </tr>\n",
       "    <tr>\n",
       "      <th>3</th>\n",
       "      <td>1004293:3</td>\n",
       "      <td>The food was lousy - too sweet or too salty an...</td>\n",
       "      <td>[[food, FOOD#QUALITY, negative], [portions, FO...</td>\n",
       "    </tr>\n",
       "    <tr>\n",
       "      <th>4</th>\n",
       "      <td>1004293:4</td>\n",
       "      <td>After all that, they complained to me about th...</td>\n",
       "      <td>[[NULL, SERVICE#GENERAL, negative]]</td>\n",
       "    </tr>\n",
       "  </tbody>\n",
       "</table>\n",
       "</div>\n",
       "      <button class=\"colab-df-convert\" onclick=\"convertToInteractive('df-91f83ac4-6c7d-4277-906d-215b3875391d')\"\n",
       "              title=\"Convert this dataframe to an interactive table.\"\n",
       "              style=\"display:none;\">\n",
       "        \n",
       "  <svg xmlns=\"http://www.w3.org/2000/svg\" height=\"24px\"viewBox=\"0 0 24 24\"\n",
       "       width=\"24px\">\n",
       "    <path d=\"M0 0h24v24H0V0z\" fill=\"none\"/>\n",
       "    <path d=\"M18.56 5.44l.94 2.06.94-2.06 2.06-.94-2.06-.94-.94-2.06-.94 2.06-2.06.94zm-11 1L8.5 8.5l.94-2.06 2.06-.94-2.06-.94L8.5 2.5l-.94 2.06-2.06.94zm10 10l.94 2.06.94-2.06 2.06-.94-2.06-.94-.94-2.06-.94 2.06-2.06.94z\"/><path d=\"M17.41 7.96l-1.37-1.37c-.4-.4-.92-.59-1.43-.59-.52 0-1.04.2-1.43.59L10.3 9.45l-7.72 7.72c-.78.78-.78 2.05 0 2.83L4 21.41c.39.39.9.59 1.41.59.51 0 1.02-.2 1.41-.59l7.78-7.78 2.81-2.81c.8-.78.8-2.07 0-2.86zM5.41 20L4 18.59l7.72-7.72 1.47 1.35L5.41 20z\"/>\n",
       "  </svg>\n",
       "      </button>\n",
       "      \n",
       "  <style>\n",
       "    .colab-df-container {\n",
       "      display:flex;\n",
       "      flex-wrap:wrap;\n",
       "      gap: 12px;\n",
       "    }\n",
       "\n",
       "    .colab-df-convert {\n",
       "      background-color: #E8F0FE;\n",
       "      border: none;\n",
       "      border-radius: 50%;\n",
       "      cursor: pointer;\n",
       "      display: none;\n",
       "      fill: #1967D2;\n",
       "      height: 32px;\n",
       "      padding: 0 0 0 0;\n",
       "      width: 32px;\n",
       "    }\n",
       "\n",
       "    .colab-df-convert:hover {\n",
       "      background-color: #E2EBFA;\n",
       "      box-shadow: 0px 1px 2px rgba(60, 64, 67, 0.3), 0px 1px 3px 1px rgba(60, 64, 67, 0.15);\n",
       "      fill: #174EA6;\n",
       "    }\n",
       "\n",
       "    [theme=dark] .colab-df-convert {\n",
       "      background-color: #3B4455;\n",
       "      fill: #D2E3FC;\n",
       "    }\n",
       "\n",
       "    [theme=dark] .colab-df-convert:hover {\n",
       "      background-color: #434B5C;\n",
       "      box-shadow: 0px 1px 3px 1px rgba(0, 0, 0, 0.15);\n",
       "      filter: drop-shadow(0px 1px 2px rgba(0, 0, 0, 0.3));\n",
       "      fill: #FFFFFF;\n",
       "    }\n",
       "  </style>\n",
       "\n",
       "      <script>\n",
       "        const buttonEl =\n",
       "          document.querySelector('#df-91f83ac4-6c7d-4277-906d-215b3875391d button.colab-df-convert');\n",
       "        buttonEl.style.display =\n",
       "          google.colab.kernel.accessAllowed ? 'block' : 'none';\n",
       "\n",
       "        async function convertToInteractive(key) {\n",
       "          const element = document.querySelector('#df-91f83ac4-6c7d-4277-906d-215b3875391d');\n",
       "          const dataTable =\n",
       "            await google.colab.kernel.invokeFunction('convertToInteractive',\n",
       "                                                     [key], {});\n",
       "          if (!dataTable) return;\n",
       "\n",
       "          const docLinkHtml = 'Like what you see? Visit the ' +\n",
       "            '<a target=\"_blank\" href=https://colab.research.google.com/notebooks/data_table.ipynb>data table notebook</a>'\n",
       "            + ' to learn more about interactive tables.';\n",
       "          element.innerHTML = '';\n",
       "          dataTable['output_type'] = 'display_data';\n",
       "          await google.colab.output.renderOutput(dataTable, element);\n",
       "          const docLink = document.createElement('div');\n",
       "          docLink.innerHTML = docLinkHtml;\n",
       "          element.appendChild(docLink);\n",
       "        }\n",
       "      </script>\n",
       "    </div>\n",
       "  </div>\n",
       "  "
      ],
      "text/plain": [
       "          id                                               text  \\\n",
       "0  1004293:0  Judging from previous posts this used to be a ...   \n",
       "1  1004293:1  We, there were four of us, arrived at noon - t...   \n",
       "2  1004293:2  They never brought us complimentary noodles, i...   \n",
       "3  1004293:3  The food was lousy - too sweet or too salty an...   \n",
       "4  1004293:4  After all that, they complained to me about th...   \n",
       "\n",
       "                            target_category_polarity  \n",
       "0            [[place, RESTAURANT#GENERAL, negative]]  \n",
       "1               [[staff, SERVICE#GENERAL, negative]]  \n",
       "2                [[NULL, SERVICE#GENERAL, negative]]  \n",
       "3  [[food, FOOD#QUALITY, negative], [portions, FO...  \n",
       "4                [[NULL, SERVICE#GENERAL, negative]]  "
      ]
     },
     "execution_count": 163,
     "metadata": {},
     "output_type": "execute_result"
    }
   ],
   "source": [
    "dataset.head()"
   ]
  },
  {
   "cell_type": "markdown",
   "metadata": {
    "id": "g_HbiUN6Xpph"
   },
   "source": [
    "# 2. Data Analysis\n",
    "\n",
    "Extracting statistical analysis of dataset on Category and Polarity"
   ]
  },
  {
   "cell_type": "code",
   "execution_count": 164,
   "metadata": {
    "colab": {
     "base_uri": "https://localhost:8080/"
    },
    "id": "2fEElTnj_06d",
    "outputId": "55a40fe7-ef88-4dbe-d83b-e2320686c553"
   },
   "outputs": [
    {
     "data": {
      "text/plain": [
       "{'FOOD#QUALITY': 849,\n",
       " 'SERVICE#GENERAL': 449,\n",
       " 'RESTAURANT#GENERAL': 422,\n",
       " 'AMBIENCE#GENERAL': 255,\n",
       " 'FOOD#STYLE_OPTIONS': 137,\n",
       " 'RESTAURANT#MISCELLANEOUS': 98,\n",
       " 'FOOD#PRICES': 90,\n",
       " 'RESTAURANT#PRICES': 80,\n",
       " 'DRINKS#QUALITY': 47,\n",
       " 'DRINKS#STYLE_OPTIONS': 32,\n",
       " 'LOCATION#GENERAL': 28,\n",
       " 'DRINKS#PRICES': 20}"
      ]
     },
     "execution_count": 164,
     "metadata": {},
     "output_type": "execute_result"
    }
   ],
   "source": [
    "category_dict = {}\n",
    "for categories in dataset[\"target_category_polarity\"]:\n",
    "  for category in categories:\n",
    "    if category_dict.get(category[1]) is None:\n",
    "      category_dict[category[1]] = 1\n",
    "    else:\n",
    "      category_dict[category[1]] +=1\n",
    "category_dict = dict(sorted(category_dict.items(), key=lambda item: item[1], reverse=True))\n",
    "category_dict"
   ]
  },
  {
   "cell_type": "code",
   "execution_count": 165,
   "metadata": {
    "colab": {
     "base_uri": "https://localhost:8080/"
    },
    "id": "S1gPDVF-g3ng",
    "outputId": "733eadc8-fb1f-4083-9749-d3fe74d03847"
   },
   "outputs": [
    {
     "data": {
      "text/plain": [
       "{'positive': 1657, 'negative': 749, 'neutral': 101}"
      ]
     },
     "execution_count": 165,
     "metadata": {},
     "output_type": "execute_result"
    }
   ],
   "source": [
    "polarity_dict = {}\n",
    "# Exercise\n",
    "for categories in dataset[\"target_category_polarity\"]:\n",
    "  for category in categories:\n",
    "    if polarity_dict.get(category[2]) is None:\n",
    "      polarity_dict[category[2]] = 1\n",
    "    else:\n",
    "      polarity_dict[category[2]] +=1\n",
    "dict(sorted(polarity_dict.items(), key=lambda item: item[1], reverse=True))"
   ]
  },
  {
   "cell_type": "markdown",
   "metadata": {
    "id": "PbOo6jRkniwA"
   },
   "source": [
    "# 3. Data Cleaning\n",
    "\n",
    "Cleaning the input text: awkward spaces, punctuations, lowercas, and stemming "
   ]
  },
  {
   "cell_type": "code",
   "execution_count": 166,
   "metadata": {
    "id": "57BIV2oReW95"
   },
   "outputs": [],
   "source": [
    "import re\n",
    "from nltk.stem.snowball import SnowballStemmer\n",
    "def remove_space(text):\n",
    "    '''Removes awkward spaces'''\n",
    "    text = text.strip()\n",
    "    text = text.split()\n",
    "    return \" \".join(text)\n",
    "\n",
    "def cleanPunc(text): \n",
    "    '''function to clean the word of any punctuation or special characters'''\n",
    "    cleaned = re.sub(r'[?|!|\\'|\"|#]',r'',text)\n",
    "    cleaned = re.sub(r'[.|,|)|(|\\|/]',r' ',cleaned)\n",
    "    cleaned = cleaned.strip()\n",
    "    cleaned = cleaned.replace(\"\\n\",\" \")\n",
    "    return cleaned\n",
    "\n",
    "stemmer = SnowballStemmer(\"english\")\n",
    "def stemming(sentence):\n",
    "    stemSentence = \"\"\n",
    "    for word in sentence.split():\n",
    "        stem = stemmer.stem(word)\n",
    "        stemSentence += stem\n",
    "        stemSentence += \" \"\n",
    "    stemSentence = stemSentence.strip()\n",
    "    return stemSentence\n",
    "\n",
    "def text_preprocessing_pipeline(text):\n",
    "    '''Cleaning and parsing the text.'''\n",
    "    text = remove_space(text)\n",
    "    text = cleanPunc(text)\n",
    "    text = stemming(text)\n",
    "    return text"
   ]
  },
  {
   "cell_type": "code",
   "execution_count": 167,
   "metadata": {
    "colab": {
     "base_uri": "https://localhost:8080/",
     "height": 206
    },
    "id": "IknUrXHEe0V4",
    "outputId": "356e6251-48a0-4e8f-9671-50ac6ab46f09"
   },
   "outputs": [
    {
     "data": {
      "text/html": [
       "\n",
       "  <div id=\"df-ca02ad18-4077-403b-946e-e2a40ecd4b91\">\n",
       "    <div class=\"colab-df-container\">\n",
       "      <div>\n",
       "<style scoped>\n",
       "    .dataframe tbody tr th:only-of-type {\n",
       "        vertical-align: middle;\n",
       "    }\n",
       "\n",
       "    .dataframe tbody tr th {\n",
       "        vertical-align: top;\n",
       "    }\n",
       "\n",
       "    .dataframe thead th {\n",
       "        text-align: right;\n",
       "    }\n",
       "</style>\n",
       "<table border=\"1\" class=\"dataframe\">\n",
       "  <thead>\n",
       "    <tr style=\"text-align: right;\">\n",
       "      <th></th>\n",
       "      <th>id</th>\n",
       "      <th>text</th>\n",
       "      <th>target_category_polarity</th>\n",
       "      <th>clean_text</th>\n",
       "    </tr>\n",
       "  </thead>\n",
       "  <tbody>\n",
       "    <tr>\n",
       "      <th>0</th>\n",
       "      <td>1004293:0</td>\n",
       "      <td>Judging from previous posts this used to be a ...</td>\n",
       "      <td>[[place, RESTAURANT#GENERAL, negative]]</td>\n",
       "      <td>judg from previous post this use to be a good ...</td>\n",
       "    </tr>\n",
       "    <tr>\n",
       "      <th>1</th>\n",
       "      <td>1004293:1</td>\n",
       "      <td>We, there were four of us, arrived at noon - t...</td>\n",
       "      <td>[[staff, SERVICE#GENERAL, negative]]</td>\n",
       "      <td>we there were four of us arriv at noon - the p...</td>\n",
       "    </tr>\n",
       "    <tr>\n",
       "      <th>2</th>\n",
       "      <td>1004293:2</td>\n",
       "      <td>They never brought us complimentary noodles, i...</td>\n",
       "      <td>[[NULL, SERVICE#GENERAL, negative]]</td>\n",
       "      <td>they never brought us complimentari noodl igno...</td>\n",
       "    </tr>\n",
       "    <tr>\n",
       "      <th>3</th>\n",
       "      <td>1004293:3</td>\n",
       "      <td>The food was lousy - too sweet or too salty an...</td>\n",
       "      <td>[[food, FOOD#QUALITY, negative], [portions, FO...</td>\n",
       "      <td>the food was lousi - too sweet or too salti an...</td>\n",
       "    </tr>\n",
       "    <tr>\n",
       "      <th>4</th>\n",
       "      <td>1004293:4</td>\n",
       "      <td>After all that, they complained to me about th...</td>\n",
       "      <td>[[NULL, SERVICE#GENERAL, negative]]</td>\n",
       "      <td>after all that they complain to me about the s...</td>\n",
       "    </tr>\n",
       "  </tbody>\n",
       "</table>\n",
       "</div>\n",
       "      <button class=\"colab-df-convert\" onclick=\"convertToInteractive('df-ca02ad18-4077-403b-946e-e2a40ecd4b91')\"\n",
       "              title=\"Convert this dataframe to an interactive table.\"\n",
       "              style=\"display:none;\">\n",
       "        \n",
       "  <svg xmlns=\"http://www.w3.org/2000/svg\" height=\"24px\"viewBox=\"0 0 24 24\"\n",
       "       width=\"24px\">\n",
       "    <path d=\"M0 0h24v24H0V0z\" fill=\"none\"/>\n",
       "    <path d=\"M18.56 5.44l.94 2.06.94-2.06 2.06-.94-2.06-.94-.94-2.06-.94 2.06-2.06.94zm-11 1L8.5 8.5l.94-2.06 2.06-.94-2.06-.94L8.5 2.5l-.94 2.06-2.06.94zm10 10l.94 2.06.94-2.06 2.06-.94-2.06-.94-.94-2.06-.94 2.06-2.06.94z\"/><path d=\"M17.41 7.96l-1.37-1.37c-.4-.4-.92-.59-1.43-.59-.52 0-1.04.2-1.43.59L10.3 9.45l-7.72 7.72c-.78.78-.78 2.05 0 2.83L4 21.41c.39.39.9.59 1.41.59.51 0 1.02-.2 1.41-.59l7.78-7.78 2.81-2.81c.8-.78.8-2.07 0-2.86zM5.41 20L4 18.59l7.72-7.72 1.47 1.35L5.41 20z\"/>\n",
       "  </svg>\n",
       "      </button>\n",
       "      \n",
       "  <style>\n",
       "    .colab-df-container {\n",
       "      display:flex;\n",
       "      flex-wrap:wrap;\n",
       "      gap: 12px;\n",
       "    }\n",
       "\n",
       "    .colab-df-convert {\n",
       "      background-color: #E8F0FE;\n",
       "      border: none;\n",
       "      border-radius: 50%;\n",
       "      cursor: pointer;\n",
       "      display: none;\n",
       "      fill: #1967D2;\n",
       "      height: 32px;\n",
       "      padding: 0 0 0 0;\n",
       "      width: 32px;\n",
       "    }\n",
       "\n",
       "    .colab-df-convert:hover {\n",
       "      background-color: #E2EBFA;\n",
       "      box-shadow: 0px 1px 2px rgba(60, 64, 67, 0.3), 0px 1px 3px 1px rgba(60, 64, 67, 0.15);\n",
       "      fill: #174EA6;\n",
       "    }\n",
       "\n",
       "    [theme=dark] .colab-df-convert {\n",
       "      background-color: #3B4455;\n",
       "      fill: #D2E3FC;\n",
       "    }\n",
       "\n",
       "    [theme=dark] .colab-df-convert:hover {\n",
       "      background-color: #434B5C;\n",
       "      box-shadow: 0px 1px 3px 1px rgba(0, 0, 0, 0.15);\n",
       "      filter: drop-shadow(0px 1px 2px rgba(0, 0, 0, 0.3));\n",
       "      fill: #FFFFFF;\n",
       "    }\n",
       "  </style>\n",
       "\n",
       "      <script>\n",
       "        const buttonEl =\n",
       "          document.querySelector('#df-ca02ad18-4077-403b-946e-e2a40ecd4b91 button.colab-df-convert');\n",
       "        buttonEl.style.display =\n",
       "          google.colab.kernel.accessAllowed ? 'block' : 'none';\n",
       "\n",
       "        async function convertToInteractive(key) {\n",
       "          const element = document.querySelector('#df-ca02ad18-4077-403b-946e-e2a40ecd4b91');\n",
       "          const dataTable =\n",
       "            await google.colab.kernel.invokeFunction('convertToInteractive',\n",
       "                                                     [key], {});\n",
       "          if (!dataTable) return;\n",
       "\n",
       "          const docLinkHtml = 'Like what you see? Visit the ' +\n",
       "            '<a target=\"_blank\" href=https://colab.research.google.com/notebooks/data_table.ipynb>data table notebook</a>'\n",
       "            + ' to learn more about interactive tables.';\n",
       "          element.innerHTML = '';\n",
       "          dataTable['output_type'] = 'display_data';\n",
       "          await google.colab.output.renderOutput(dataTable, element);\n",
       "          const docLink = document.createElement('div');\n",
       "          docLink.innerHTML = docLinkHtml;\n",
       "          element.appendChild(docLink);\n",
       "        }\n",
       "      </script>\n",
       "    </div>\n",
       "  </div>\n",
       "  "
      ],
      "text/plain": [
       "          id                                               text  \\\n",
       "0  1004293:0  Judging from previous posts this used to be a ...   \n",
       "1  1004293:1  We, there were four of us, arrived at noon - t...   \n",
       "2  1004293:2  They never brought us complimentary noodles, i...   \n",
       "3  1004293:3  The food was lousy - too sweet or too salty an...   \n",
       "4  1004293:4  After all that, they complained to me about th...   \n",
       "\n",
       "                            target_category_polarity  \\\n",
       "0            [[place, RESTAURANT#GENERAL, negative]]   \n",
       "1               [[staff, SERVICE#GENERAL, negative]]   \n",
       "2                [[NULL, SERVICE#GENERAL, negative]]   \n",
       "3  [[food, FOOD#QUALITY, negative], [portions, FO...   \n",
       "4                [[NULL, SERVICE#GENERAL, negative]]   \n",
       "\n",
       "                                          clean_text  \n",
       "0  judg from previous post this use to be a good ...  \n",
       "1  we there were four of us arriv at noon - the p...  \n",
       "2  they never brought us complimentari noodl igno...  \n",
       "3  the food was lousi - too sweet or too salti an...  \n",
       "4  after all that they complain to me about the s...  "
      ]
     },
     "execution_count": 167,
     "metadata": {},
     "output_type": "execute_result"
    }
   ],
   "source": [
    "dataset['clean_text'] = dataset['text'].str.lower()\n",
    "dataset['clean_text'] = dataset['text'].apply(text_preprocessing_pipeline)\n",
    "dataset['clean_text'] = dataset['text'].apply(text_preprocessing_pipeline)\n",
    "dataset.head()"
   ]
  },
  {
   "cell_type": "markdown",
   "metadata": {
    "id": "bXLFtoOp4cZu"
   },
   "source": [
    "# 4. Aspect Category Vectorization\n",
    "\n",
    "Extract category vectors for multilable classification"
   ]
  },
  {
   "cell_type": "code",
   "execution_count": 168,
   "metadata": {
    "id": "05aM7BAYgxtz"
   },
   "outputs": [],
   "source": [
    "category_list = list(category_dict.keys())\n",
    "category_vector = []\n",
    "for index, categories in enumerate(dataset[\"target_category_polarity\"]):\n",
    "  # Exercise\n",
    "  tmp = [0] * len(category_list)\n",
    "  for category in categories:\n",
    "    tmp[category_list.index(category[1])] = 1\n",
    "  category_vector.append(tmp)\n",
    "dataset[\"category\"] = category_vector"
   ]
  },
  {
   "cell_type": "code",
   "execution_count": 169,
   "metadata": {
    "colab": {
     "base_uri": "https://localhost:8080/",
     "height": 244
    },
    "id": "_vG2FbmL4kWc",
    "outputId": "bd2c5a9f-afac-4d14-f023-c9568060f208"
   },
   "outputs": [
    {
     "name": "stdout",
     "output_type": "stream",
     "text": [
      "['FOOD#QUALITY', 'SERVICE#GENERAL', 'RESTAURANT#GENERAL', 'AMBIENCE#GENERAL', 'FOOD#STYLE_OPTIONS', 'RESTAURANT#MISCELLANEOUS', 'FOOD#PRICES', 'RESTAURANT#PRICES', 'DRINKS#QUALITY', 'DRINKS#STYLE_OPTIONS', 'LOCATION#GENERAL', 'DRINKS#PRICES']\n"
     ]
    },
    {
     "data": {
      "text/html": [
       "\n",
       "  <div id=\"df-1b5d6d14-654c-480d-8eb0-196061356330\">\n",
       "    <div class=\"colab-df-container\">\n",
       "      <div>\n",
       "<style scoped>\n",
       "    .dataframe tbody tr th:only-of-type {\n",
       "        vertical-align: middle;\n",
       "    }\n",
       "\n",
       "    .dataframe tbody tr th {\n",
       "        vertical-align: top;\n",
       "    }\n",
       "\n",
       "    .dataframe thead th {\n",
       "        text-align: right;\n",
       "    }\n",
       "</style>\n",
       "<table border=\"1\" class=\"dataframe\">\n",
       "  <thead>\n",
       "    <tr style=\"text-align: right;\">\n",
       "      <th></th>\n",
       "      <th>id</th>\n",
       "      <th>text</th>\n",
       "      <th>target_category_polarity</th>\n",
       "      <th>clean_text</th>\n",
       "      <th>category</th>\n",
       "    </tr>\n",
       "  </thead>\n",
       "  <tbody>\n",
       "    <tr>\n",
       "      <th>0</th>\n",
       "      <td>1004293:0</td>\n",
       "      <td>Judging from previous posts this used to be a ...</td>\n",
       "      <td>[[place, RESTAURANT#GENERAL, negative]]</td>\n",
       "      <td>judg from previous post this use to be a good ...</td>\n",
       "      <td>[0, 0, 1, 0, 0, 0, 0, 0, 0, 0, 0, 0]</td>\n",
       "    </tr>\n",
       "    <tr>\n",
       "      <th>1</th>\n",
       "      <td>1004293:1</td>\n",
       "      <td>We, there were four of us, arrived at noon - t...</td>\n",
       "      <td>[[staff, SERVICE#GENERAL, negative]]</td>\n",
       "      <td>we there were four of us arriv at noon - the p...</td>\n",
       "      <td>[0, 1, 0, 0, 0, 0, 0, 0, 0, 0, 0, 0]</td>\n",
       "    </tr>\n",
       "    <tr>\n",
       "      <th>2</th>\n",
       "      <td>1004293:2</td>\n",
       "      <td>They never brought us complimentary noodles, i...</td>\n",
       "      <td>[[NULL, SERVICE#GENERAL, negative]]</td>\n",
       "      <td>they never brought us complimentari noodl igno...</td>\n",
       "      <td>[0, 1, 0, 0, 0, 0, 0, 0, 0, 0, 0, 0]</td>\n",
       "    </tr>\n",
       "    <tr>\n",
       "      <th>3</th>\n",
       "      <td>1004293:3</td>\n",
       "      <td>The food was lousy - too sweet or too salty an...</td>\n",
       "      <td>[[food, FOOD#QUALITY, negative], [portions, FO...</td>\n",
       "      <td>the food was lousi - too sweet or too salti an...</td>\n",
       "      <td>[1, 0, 0, 0, 1, 0, 0, 0, 0, 0, 0, 0]</td>\n",
       "    </tr>\n",
       "    <tr>\n",
       "      <th>4</th>\n",
       "      <td>1004293:4</td>\n",
       "      <td>After all that, they complained to me about th...</td>\n",
       "      <td>[[NULL, SERVICE#GENERAL, negative]]</td>\n",
       "      <td>after all that they complain to me about the s...</td>\n",
       "      <td>[0, 1, 0, 0, 0, 0, 0, 0, 0, 0, 0, 0]</td>\n",
       "    </tr>\n",
       "  </tbody>\n",
       "</table>\n",
       "</div>\n",
       "      <button class=\"colab-df-convert\" onclick=\"convertToInteractive('df-1b5d6d14-654c-480d-8eb0-196061356330')\"\n",
       "              title=\"Convert this dataframe to an interactive table.\"\n",
       "              style=\"display:none;\">\n",
       "        \n",
       "  <svg xmlns=\"http://www.w3.org/2000/svg\" height=\"24px\"viewBox=\"0 0 24 24\"\n",
       "       width=\"24px\">\n",
       "    <path d=\"M0 0h24v24H0V0z\" fill=\"none\"/>\n",
       "    <path d=\"M18.56 5.44l.94 2.06.94-2.06 2.06-.94-2.06-.94-.94-2.06-.94 2.06-2.06.94zm-11 1L8.5 8.5l.94-2.06 2.06-.94-2.06-.94L8.5 2.5l-.94 2.06-2.06.94zm10 10l.94 2.06.94-2.06 2.06-.94-2.06-.94-.94-2.06-.94 2.06-2.06.94z\"/><path d=\"M17.41 7.96l-1.37-1.37c-.4-.4-.92-.59-1.43-.59-.52 0-1.04.2-1.43.59L10.3 9.45l-7.72 7.72c-.78.78-.78 2.05 0 2.83L4 21.41c.39.39.9.59 1.41.59.51 0 1.02-.2 1.41-.59l7.78-7.78 2.81-2.81c.8-.78.8-2.07 0-2.86zM5.41 20L4 18.59l7.72-7.72 1.47 1.35L5.41 20z\"/>\n",
       "  </svg>\n",
       "      </button>\n",
       "      \n",
       "  <style>\n",
       "    .colab-df-container {\n",
       "      display:flex;\n",
       "      flex-wrap:wrap;\n",
       "      gap: 12px;\n",
       "    }\n",
       "\n",
       "    .colab-df-convert {\n",
       "      background-color: #E8F0FE;\n",
       "      border: none;\n",
       "      border-radius: 50%;\n",
       "      cursor: pointer;\n",
       "      display: none;\n",
       "      fill: #1967D2;\n",
       "      height: 32px;\n",
       "      padding: 0 0 0 0;\n",
       "      width: 32px;\n",
       "    }\n",
       "\n",
       "    .colab-df-convert:hover {\n",
       "      background-color: #E2EBFA;\n",
       "      box-shadow: 0px 1px 2px rgba(60, 64, 67, 0.3), 0px 1px 3px 1px rgba(60, 64, 67, 0.15);\n",
       "      fill: #174EA6;\n",
       "    }\n",
       "\n",
       "    [theme=dark] .colab-df-convert {\n",
       "      background-color: #3B4455;\n",
       "      fill: #D2E3FC;\n",
       "    }\n",
       "\n",
       "    [theme=dark] .colab-df-convert:hover {\n",
       "      background-color: #434B5C;\n",
       "      box-shadow: 0px 1px 3px 1px rgba(0, 0, 0, 0.15);\n",
       "      filter: drop-shadow(0px 1px 2px rgba(0, 0, 0, 0.3));\n",
       "      fill: #FFFFFF;\n",
       "    }\n",
       "  </style>\n",
       "\n",
       "      <script>\n",
       "        const buttonEl =\n",
       "          document.querySelector('#df-1b5d6d14-654c-480d-8eb0-196061356330 button.colab-df-convert');\n",
       "        buttonEl.style.display =\n",
       "          google.colab.kernel.accessAllowed ? 'block' : 'none';\n",
       "\n",
       "        async function convertToInteractive(key) {\n",
       "          const element = document.querySelector('#df-1b5d6d14-654c-480d-8eb0-196061356330');\n",
       "          const dataTable =\n",
       "            await google.colab.kernel.invokeFunction('convertToInteractive',\n",
       "                                                     [key], {});\n",
       "          if (!dataTable) return;\n",
       "\n",
       "          const docLinkHtml = 'Like what you see? Visit the ' +\n",
       "            '<a target=\"_blank\" href=https://colab.research.google.com/notebooks/data_table.ipynb>data table notebook</a>'\n",
       "            + ' to learn more about interactive tables.';\n",
       "          element.innerHTML = '';\n",
       "          dataTable['output_type'] = 'display_data';\n",
       "          await google.colab.output.renderOutput(dataTable, element);\n",
       "          const docLink = document.createElement('div');\n",
       "          docLink.innerHTML = docLinkHtml;\n",
       "          element.appendChild(docLink);\n",
       "        }\n",
       "      </script>\n",
       "    </div>\n",
       "  </div>\n",
       "  "
      ],
      "text/plain": [
       "          id                                               text  \\\n",
       "0  1004293:0  Judging from previous posts this used to be a ...   \n",
       "1  1004293:1  We, there were four of us, arrived at noon - t...   \n",
       "2  1004293:2  They never brought us complimentary noodles, i...   \n",
       "3  1004293:3  The food was lousy - too sweet or too salty an...   \n",
       "4  1004293:4  After all that, they complained to me about th...   \n",
       "\n",
       "                            target_category_polarity  \\\n",
       "0            [[place, RESTAURANT#GENERAL, negative]]   \n",
       "1               [[staff, SERVICE#GENERAL, negative]]   \n",
       "2                [[NULL, SERVICE#GENERAL, negative]]   \n",
       "3  [[food, FOOD#QUALITY, negative], [portions, FO...   \n",
       "4                [[NULL, SERVICE#GENERAL, negative]]   \n",
       "\n",
       "                                          clean_text  \\\n",
       "0  judg from previous post this use to be a good ...   \n",
       "1  we there were four of us arriv at noon - the p...   \n",
       "2  they never brought us complimentari noodl igno...   \n",
       "3  the food was lousi - too sweet or too salti an...   \n",
       "4  after all that they complain to me about the s...   \n",
       "\n",
       "                               category  \n",
       "0  [0, 0, 1, 0, 0, 0, 0, 0, 0, 0, 0, 0]  \n",
       "1  [0, 1, 0, 0, 0, 0, 0, 0, 0, 0, 0, 0]  \n",
       "2  [0, 1, 0, 0, 0, 0, 0, 0, 0, 0, 0, 0]  \n",
       "3  [1, 0, 0, 0, 1, 0, 0, 0, 0, 0, 0, 0]  \n",
       "4  [0, 1, 0, 0, 0, 0, 0, 0, 0, 0, 0, 0]  "
      ]
     },
     "execution_count": 169,
     "metadata": {},
     "output_type": "execute_result"
    }
   ],
   "source": [
    "print(category_list)\n",
    "dataset.head()"
   ]
  },
  {
   "cell_type": "markdown",
   "metadata": {
    "id": "kDMX_yV4LJZg"
   },
   "source": [
    "# 5. Aspect Term Extarction (Rule-based Approach)\n",
    "\n",
    "In this step, we use a simple rule-based approach to extract aspect terms. This is based on frequesnt nouns and noun phrases for each aspect.\n",
    "\n",
    "* Identify Nouns and noun phrases \n",
    "\n",
    "* Count their frequencies of occurrence\n",
    "\n",
    "* Keep the frequent ones"
   ]
  },
  {
   "cell_type": "code",
   "execution_count": 170,
   "metadata": {
    "id": "n7XEnyMKGZHa"
   },
   "outputs": [],
   "source": [
    "# Extract NOUN phrases for dataset and return the frequent ones\n",
    "def noun_phrase_extract(dataset, frequency=5):\n",
    "  import spacy\n",
    "  nlp = spacy.load(\"en_core_web_sm\")\n",
    "\n",
    "  noun_terms = []\n",
    "  #Exercise\n",
    "  for review in nlp.pipe(dataset[\"clean_text\"]):\n",
    "      chunks = [(chunk.root.text) for chunk in review.noun_chunks if chunk.root.pos_ == 'NOUN']\n",
    "      noun_terms.append(','.join(chunks))\n",
    "  dict_allnoun = {}\n",
    "  for terms in noun_terms:\n",
    "    for term in terms.split(','):\n",
    "      if term != '':\n",
    "        if dict_allnoun.get(term) is None:\n",
    "          dict_allnoun[term] = 1\n",
    "        else:\n",
    "          dict_allnoun[term] +=1\n",
    "  dict_allnoun = dict(sorted(dict_allnoun.items(), key=lambda x:x[1], reverse=True))\n",
    "  print(\"Number of all nouns:\", len(dict_allnoun))\n",
    "  dict_freq_noun = {key:val for key, val in dict_allnoun.items() if val > frequency}\n",
    "  print(\"Number of more frequent nouns\", len(dict_freq_noun))\n",
    "  return dict_freq_noun"
   ]
  },
  {
   "cell_type": "code",
   "execution_count": 171,
   "metadata": {
    "colab": {
     "base_uri": "https://localhost:8080/"
    },
    "id": "FPXwGJo7PeST",
    "outputId": "60db19f5-f064-4515-8d30-dc2794702eed"
   },
   "outputs": [
    {
     "name": "stdout",
     "output_type": "stream",
     "text": [
      "Number of all nouns: 1177\n",
      "Number of more frequent nouns 464\n"
     ]
    }
   ],
   "source": [
    "dict_freq_noun = noun_phrase_extract(dataset, 1)"
   ]
  },
  {
   "cell_type": "markdown",
   "metadata": {
    "id": "BQRCz4J_5-0v"
   },
   "source": [
    "# 6. Spliting dataset into train and test sets"
   ]
  },
  {
   "cell_type": "code",
   "execution_count": 172,
   "metadata": {
    "id": "unmAFDYJ592j"
   },
   "outputs": [],
   "source": [
    "from sklearn.model_selection import train_test_split\n",
    "train, test = train_test_split(dataset, test_size=0.2, random_state=1234)"
   ]
  },
  {
   "cell_type": "code",
   "execution_count": 173,
   "metadata": {
    "colab": {
     "base_uri": "https://localhost:8080/"
    },
    "id": "u83WkDsFGtL6",
    "outputId": "e83dba44-5973-46eb-f71a-b94f0d22405b"
   },
   "outputs": [
    {
     "name": "stdout",
     "output_type": "stream",
     "text": [
      "(1600, 5)\n",
      "(400, 5)\n"
     ]
    }
   ],
   "source": [
    "print(train.shape)\n",
    "print(test.shape)"
   ]
  },
  {
   "cell_type": "markdown",
   "metadata": {
    "id": "U5LHlgbi4C90"
   },
   "source": [
    "# 7. TF-IDF Features\n",
    "\n",
    "Extracting TF-IDF features"
   ]
  },
  {
   "cell_type": "code",
   "execution_count": 174,
   "metadata": {
    "id": "_UM4Lr3M49Ng"
   },
   "outputs": [],
   "source": [
    "from sklearn.feature_extraction.text import TfidfVectorizer\n",
    "tfidf_vectorizer = TfidfVectorizer(stop_words=\"english\")\n",
    "\n",
    "tfidf_vectorizer.fit(train[\"clean_text\"])\n",
    "\n",
    "xtrain_text_tfidf = tfidf_vectorizer.transform(train[\"clean_text\"])\n",
    "xtest_text_tfidf = tfidf_vectorizer.transform(test[\"clean_text\"])\n",
    "\n",
    "# category class\n",
    "ytrain_category = train[\"category\"].tolist()\n",
    "ytest_category = test[\"category\"].tolist()\n",
    "\n"
   ]
  },
  {
   "cell_type": "markdown",
   "metadata": {
    "id": "4Rdw3w8o0tH1"
   },
   "source": [
    "# 8. Aspect Category Clasification\n",
    "\n"
   ]
  },
  {
   "cell_type": "code",
   "execution_count": 175,
   "metadata": {
    "colab": {
     "base_uri": "https://localhost:8080/"
    },
    "id": "pkgSNJDM1CFR",
    "outputId": "bc0a81f7-3049-4a73-be80-937bd88822d8"
   },
   "outputs": [
    {
     "data": {
      "text/plain": [
       "RandomForestClassifier()"
      ]
     },
     "execution_count": 175,
     "metadata": {},
     "output_type": "execute_result"
    }
   ],
   "source": [
    "from sklearn.metrics import classification_report\n",
    "from sklearn.ensemble import RandomForestClassifier\n",
    "rfc_text = RandomForestClassifier()\n",
    "rfc_text.fit(xtrain_text_tfidf, ytrain_category)"
   ]
  },
  {
   "cell_type": "code",
   "execution_count": 176,
   "metadata": {
    "id": "UAKLn4mB797P"
   },
   "outputs": [],
   "source": [
    "ytest_category_text_pred = rfc_text.predict(xtest_text_tfidf)\n"
   ]
  },
  {
   "cell_type": "code",
   "execution_count": 177,
   "metadata": {
    "colab": {
     "base_uri": "https://localhost:8080/"
    },
    "id": "Ks4dCYBe8JUP",
    "outputId": "39e14c4d-777e-4459-b169-889ea8e46922"
   },
   "outputs": [
    {
     "name": "stdout",
     "output_type": "stream",
     "text": [
      "                          precision    recall  f1-score   support\n",
      "\n",
      "            FOOD#QUALITY       0.88      0.67      0.76       153\n",
      "         SERVICE#GENERAL       0.98      0.47      0.64        87\n",
      "      RESTAURANT#GENERAL       0.53      0.51      0.52        81\n",
      "        AMBIENCE#GENERAL       0.92      0.24      0.39        49\n",
      "      FOOD#STYLE_OPTIONS       1.00      0.05      0.09        21\n",
      "RESTAURANT#MISCELLANEOUS       0.00      0.00      0.00        21\n",
      "             FOOD#PRICES       1.00      0.04      0.08        23\n",
      "       RESTAURANT#PRICES       0.57      0.21      0.31        19\n",
      "          DRINKS#QUALITY       0.00      0.00      0.00         5\n",
      "    DRINKS#STYLE_OPTIONS       0.50      0.14      0.22         7\n",
      "        LOCATION#GENERAL       0.00      0.00      0.00         4\n",
      "           DRINKS#PRICES       0.00      0.00      0.00         5\n",
      "\n",
      "               micro avg       0.78      0.43      0.56       475\n",
      "               macro avg       0.53      0.20      0.25       475\n",
      "            weighted avg       0.77      0.43      0.51       475\n",
      "             samples avg       0.47      0.40      0.42       475\n",
      "\n"
     ]
    }
   ],
   "source": [
    "print(classification_report(ytest_category, ytest_category_text_pred, zero_division=0, target_names=category_list))"
   ]
  },
  {
   "cell_type": "code",
   "execution_count": 178,
   "metadata": {
    "colab": {
     "base_uri": "https://localhost:8080/",
     "height": 250
    },
    "id": "d3mfSDDc-yAV",
    "outputId": "a8367b50-a5d7-46c1-fe95-3fa1dd77fdba"
   },
   "outputs": [
    {
     "data": {
      "text/plain": [
       "Text(0.5, 0.98, 'Categorical Plotting')"
      ]
     },
     "execution_count": 178,
     "metadata": {},
     "output_type": "execute_result"
    },
    {
     "data": {
      "image/png": "[encoded data removed]",
      "text/plain": [
       "<Figure size 648x216 with 1 Axes>"
      ]
     },
     "metadata": {
      "needs_background": "light"
     },
     "output_type": "display_data"
    }
   ],
   "source": [
    "import matplotlib.pyplot as plt\n",
    "names = list(category_dict.keys())\n",
    "values = list(category_dict.values())\n",
    "fig, axs = plt.subplots(1, 1, figsize=(9, 3), sharey=True)\n",
    "axs.barh(names, values)\n",
    "fig.suptitle('Categorical Plotting')"
   ]
  },
  {
   "cell_type": "markdown",
   "metadata": {
    "id": "uaZ7YCcc09lT"
   },
   "source": [
    "# 9. Aspect Term polarity Classification\n"
   ]
  },
  {
   "cell_type": "code",
   "execution_count": 179,
   "metadata": {
    "colab": {
     "base_uri": "https://localhost:8080/",
     "height": 250
    },
    "id": "rzatYcqpkfZ5",
    "outputId": "dc7a66ad-1878-418b-f081-ff3dcd7b2129"
   },
   "outputs": [
    {
     "data": {
      "text/html": [
       "\n",
       "  <div id=\"df-379ec23c-2bba-484a-b29c-7023c8a51cfb\">\n",
       "    <div class=\"colab-df-container\">\n",
       "      <div>\n",
       "<style scoped>\n",
       "    .dataframe tbody tr th:only-of-type {\n",
       "        vertical-align: middle;\n",
       "    }\n",
       "\n",
       "    .dataframe tbody tr th {\n",
       "        vertical-align: top;\n",
       "    }\n",
       "\n",
       "    .dataframe thead th {\n",
       "        text-align: right;\n",
       "    }\n",
       "</style>\n",
       "<table border=\"1\" class=\"dataframe\">\n",
       "  <thead>\n",
       "    <tr style=\"text-align: right;\">\n",
       "      <th></th>\n",
       "      <th>id</th>\n",
       "      <th>text</th>\n",
       "      <th>target_category_polarity</th>\n",
       "      <th>clean_text</th>\n",
       "      <th>category</th>\n",
       "    </tr>\n",
       "  </thead>\n",
       "  <tbody>\n",
       "    <tr>\n",
       "      <th>230</th>\n",
       "      <td>1253117:3</td>\n",
       "      <td>Also, because it is so thin, it gets cold very...</td>\n",
       "      <td>[[NULL, FOOD#QUALITY, negative], [NULL, FOOD#S...</td>\n",
       "      <td>also becaus it is so thin it get cold veri qui...</td>\n",
       "      <td>[1, 0, 0, 0, 1, 0, 0, 0, 0, 0, 0, 0]</td>\n",
       "    </tr>\n",
       "    <tr>\n",
       "      <th>1271</th>\n",
       "      <td>759781:5</td>\n",
       "      <td>Me and my girls will definitely go back.</td>\n",
       "      <td>[[NULL, RESTAURANT#GENERAL, positive]]</td>\n",
       "      <td>me and my girl will definit go back</td>\n",
       "      <td>[0, 0, 1, 0, 0, 0, 0, 0, 0, 0, 0, 0]</td>\n",
       "    </tr>\n",
       "    <tr>\n",
       "      <th>1311</th>\n",
       "      <td>958809:1</td>\n",
       "      <td>I have to say I have never had a disapointing ...</td>\n",
       "      <td>[[meal, FOOD#QUALITY, positive]]</td>\n",
       "      <td>i have to say i have never had a disapoint mea...</td>\n",
       "      <td>[1, 0, 0, 0, 0, 0, 0, 0, 0, 0, 0, 0]</td>\n",
       "    </tr>\n",
       "    <tr>\n",
       "      <th>414</th>\n",
       "      <td>1395421:1</td>\n",
       "      <td>THe Pizza and wine were excellent-the service ...</td>\n",
       "      <td>[[Pizza, FOOD#QUALITY, positive], [wine, DRINK...</td>\n",
       "      <td>the pizza and wine were excellent-th servic to...</td>\n",
       "      <td>[1, 1, 0, 1, 0, 0, 0, 0, 1, 0, 0, 0]</td>\n",
       "    </tr>\n",
       "    <tr>\n",
       "      <th>811</th>\n",
       "      <td>1730127:0</td>\n",
       "      <td>You cannot go wrong with this place.</td>\n",
       "      <td>[[place, RESTAURANT#GENERAL, positive]]</td>\n",
       "      <td>you cannot go wrong with this place</td>\n",
       "      <td>[0, 0, 1, 0, 0, 0, 0, 0, 0, 0, 0, 0]</td>\n",
       "    </tr>\n",
       "  </tbody>\n",
       "</table>\n",
       "</div>\n",
       "      <button class=\"colab-df-convert\" onclick=\"convertToInteractive('df-379ec23c-2bba-484a-b29c-7023c8a51cfb')\"\n",
       "              title=\"Convert this dataframe to an interactive table.\"\n",
       "              style=\"display:none;\">\n",
       "        \n",
       "  <svg xmlns=\"http://www.w3.org/2000/svg\" height=\"24px\"viewBox=\"0 0 24 24\"\n",
       "       width=\"24px\">\n",
       "    <path d=\"M0 0h24v24H0V0z\" fill=\"none\"/>\n",
       "    <path d=\"M18.56 5.44l.94 2.06.94-2.06 2.06-.94-2.06-.94-.94-2.06-.94 2.06-2.06.94zm-11 1L8.5 8.5l.94-2.06 2.06-.94-2.06-.94L8.5 2.5l-.94 2.06-2.06.94zm10 10l.94 2.06.94-2.06 2.06-.94-2.06-.94-.94-2.06-.94 2.06-2.06.94z\"/><path d=\"M17.41 7.96l-1.37-1.37c-.4-.4-.92-.59-1.43-.59-.52 0-1.04.2-1.43.59L10.3 9.45l-7.72 7.72c-.78.78-.78 2.05 0 2.83L4 21.41c.39.39.9.59 1.41.59.51 0 1.02-.2 1.41-.59l7.78-7.78 2.81-2.81c.8-.78.8-2.07 0-2.86zM5.41 20L4 18.59l7.72-7.72 1.47 1.35L5.41 20z\"/>\n",
       "  </svg>\n",
       "      </button>\n",
       "      \n",
       "  <style>\n",
       "    .colab-df-container {\n",
       "      display:flex;\n",
       "      flex-wrap:wrap;\n",
       "      gap: 12px;\n",
       "    }\n",
       "\n",
       "    .colab-df-convert {\n",
       "      background-color: #E8F0FE;\n",
       "      border: none;\n",
       "      border-radius: 50%;\n",
       "      cursor: pointer;\n",
       "      display: none;\n",
       "      fill: #1967D2;\n",
       "      height: 32px;\n",
       "      padding: 0 0 0 0;\n",
       "      width: 32px;\n",
       "    }\n",
       "\n",
       "    .colab-df-convert:hover {\n",
       "      background-color: #E2EBFA;\n",
       "      box-shadow: 0px 1px 2px rgba(60, 64, 67, 0.3), 0px 1px 3px 1px rgba(60, 64, 67, 0.15);\n",
       "      fill: #174EA6;\n",
       "    }\n",
       "\n",
       "    [theme=dark] .colab-df-convert {\n",
       "      background-color: #3B4455;\n",
       "      fill: #D2E3FC;\n",
       "    }\n",
       "\n",
       "    [theme=dark] .colab-df-convert:hover {\n",
       "      background-color: #434B5C;\n",
       "      box-shadow: 0px 1px 3px 1px rgba(0, 0, 0, 0.15);\n",
       "      filter: drop-shadow(0px 1px 2px rgba(0, 0, 0, 0.3));\n",
       "      fill: #FFFFFF;\n",
       "    }\n",
       "  </style>\n",
       "\n",
       "      <script>\n",
       "        const buttonEl =\n",
       "          document.querySelector('#df-379ec23c-2bba-484a-b29c-7023c8a51cfb button.colab-df-convert');\n",
       "        buttonEl.style.display =\n",
       "          google.colab.kernel.accessAllowed ? 'block' : 'none';\n",
       "\n",
       "        async function convertToInteractive(key) {\n",
       "          const element = document.querySelector('#df-379ec23c-2bba-484a-b29c-7023c8a51cfb');\n",
       "          const dataTable =\n",
       "            await google.colab.kernel.invokeFunction('convertToInteractive',\n",
       "                                                     [key], {});\n",
       "          if (!dataTable) return;\n",
       "\n",
       "          const docLinkHtml = 'Like what you see? Visit the ' +\n",
       "            '<a target=\"_blank\" href=https://colab.research.google.com/notebooks/data_table.ipynb>data table notebook</a>'\n",
       "            + ' to learn more about interactive tables.';\n",
       "          element.innerHTML = '';\n",
       "          dataTable['output_type'] = 'display_data';\n",
       "          await google.colab.output.renderOutput(dataTable, element);\n",
       "          const docLink = document.createElement('div');\n",
       "          docLink.innerHTML = docLinkHtml;\n",
       "          element.appendChild(docLink);\n",
       "        }\n",
       "      </script>\n",
       "    </div>\n",
       "  </div>\n",
       "  "
      ],
      "text/plain": [
       "             id                                               text  \\\n",
       "230   1253117:3  Also, because it is so thin, it gets cold very...   \n",
       "1271   759781:5           Me and my girls will definitely go back.   \n",
       "1311   958809:1  I have to say I have never had a disapointing ...   \n",
       "414   1395421:1  THe Pizza and wine were excellent-the service ...   \n",
       "811   1730127:0               You cannot go wrong with this place.   \n",
       "\n",
       "                               target_category_polarity  \\\n",
       "230   [[NULL, FOOD#QUALITY, negative], [NULL, FOOD#S...   \n",
       "1271             [[NULL, RESTAURANT#GENERAL, positive]]   \n",
       "1311                   [[meal, FOOD#QUALITY, positive]]   \n",
       "414   [[Pizza, FOOD#QUALITY, positive], [wine, DRINK...   \n",
       "811             [[place, RESTAURANT#GENERAL, positive]]   \n",
       "\n",
       "                                             clean_text  \\\n",
       "230   also becaus it is so thin it get cold veri qui...   \n",
       "1271                me and my girl will definit go back   \n",
       "1311  i have to say i have never had a disapoint mea...   \n",
       "414   the pizza and wine were excellent-th servic to...   \n",
       "811                 you cannot go wrong with this place   \n",
       "\n",
       "                                  category  \n",
       "230   [1, 0, 0, 0, 1, 0, 0, 0, 0, 0, 0, 0]  \n",
       "1271  [0, 0, 1, 0, 0, 0, 0, 0, 0, 0, 0, 0]  \n",
       "1311  [1, 0, 0, 0, 0, 0, 0, 0, 0, 0, 0, 0]  \n",
       "414   [1, 1, 0, 1, 0, 0, 0, 0, 1, 0, 0, 0]  \n",
       "811   [0, 0, 1, 0, 0, 0, 0, 0, 0, 0, 0, 0]  "
      ]
     },
     "execution_count": 179,
     "metadata": {},
     "output_type": "execute_result"
    }
   ],
   "source": [
    "train.head()"
   ]
  },
  {
   "cell_type": "code",
   "execution_count": 180,
   "metadata": {
    "id": "2t7erAK3WjkQ"
   },
   "outputs": [],
   "source": [
    "train_text = train[\"clean_text\"]\n",
    "train_label = train[\"target_category_polarity\"]\n",
    "#Exercise\n",
    "train_all = list(zip(train_text, train_label))\n",
    "df_cols = [\"clean_text\", \"term\", \"polarity\"]\n",
    "rows = []\n",
    "for row in train_all:\n",
    "  for item in row[1]:\n",
    "    rows.append({\"clean_text\": row[0], \"term\": item[0], \"polarity\": item[-1]})\n",
    "train_polarity = pd.DataFrame(rows, columns = df_cols)"
   ]
  },
  {
   "cell_type": "code",
   "execution_count": 181,
   "metadata": {
    "colab": {
     "base_uri": "https://localhost:8080/",
     "height": 206
    },
    "id": "-K5MsMurfmpx",
    "outputId": "f9e1823a-8e69-4d60-83b1-97732aa1a370"
   },
   "outputs": [
    {
     "data": {
      "text/html": [
       "\n",
       "  <div id=\"df-d356c325-31a3-4eff-abad-d37db1e52ef2\">\n",
       "    <div class=\"colab-df-container\">\n",
       "      <div>\n",
       "<style scoped>\n",
       "    .dataframe tbody tr th:only-of-type {\n",
       "        vertical-align: middle;\n",
       "    }\n",
       "\n",
       "    .dataframe tbody tr th {\n",
       "        vertical-align: top;\n",
       "    }\n",
       "\n",
       "    .dataframe thead th {\n",
       "        text-align: right;\n",
       "    }\n",
       "</style>\n",
       "<table border=\"1\" class=\"dataframe\">\n",
       "  <thead>\n",
       "    <tr style=\"text-align: right;\">\n",
       "      <th></th>\n",
       "      <th>clean_text</th>\n",
       "      <th>term</th>\n",
       "      <th>polarity</th>\n",
       "    </tr>\n",
       "  </thead>\n",
       "  <tbody>\n",
       "    <tr>\n",
       "      <th>0</th>\n",
       "      <td>also becaus it is so thin it get cold veri qui...</td>\n",
       "      <td>NULL</td>\n",
       "      <td>negative</td>\n",
       "    </tr>\n",
       "    <tr>\n",
       "      <th>1</th>\n",
       "      <td>also becaus it is so thin it get cold veri qui...</td>\n",
       "      <td>NULL</td>\n",
       "      <td>negative</td>\n",
       "    </tr>\n",
       "    <tr>\n",
       "      <th>2</th>\n",
       "      <td>me and my girl will definit go back</td>\n",
       "      <td>NULL</td>\n",
       "      <td>positive</td>\n",
       "    </tr>\n",
       "    <tr>\n",
       "      <th>3</th>\n",
       "      <td>i have to say i have never had a disapoint mea...</td>\n",
       "      <td>meal</td>\n",
       "      <td>positive</td>\n",
       "    </tr>\n",
       "    <tr>\n",
       "      <th>4</th>\n",
       "      <td>the pizza and wine were excellent-th servic to...</td>\n",
       "      <td>Pizza</td>\n",
       "      <td>positive</td>\n",
       "    </tr>\n",
       "  </tbody>\n",
       "</table>\n",
       "</div>\n",
       "      <button class=\"colab-df-convert\" onclick=\"convertToInteractive('df-d356c325-31a3-4eff-abad-d37db1e52ef2')\"\n",
       "              title=\"Convert this dataframe to an interactive table.\"\n",
       "              style=\"display:none;\">\n",
       "        \n",
       "  <svg xmlns=\"http://www.w3.org/2000/svg\" height=\"24px\"viewBox=\"0 0 24 24\"\n",
       "       width=\"24px\">\n",
       "    <path d=\"M0 0h24v24H0V0z\" fill=\"none\"/>\n",
       "    <path d=\"M18.56 5.44l.94 2.06.94-2.06 2.06-.94-2.06-.94-.94-2.06-.94 2.06-2.06.94zm-11 1L8.5 8.5l.94-2.06 2.06-.94-2.06-.94L8.5 2.5l-.94 2.06-2.06.94zm10 10l.94 2.06.94-2.06 2.06-.94-2.06-.94-.94-2.06-.94 2.06-2.06.94z\"/><path d=\"M17.41 7.96l-1.37-1.37c-.4-.4-.92-.59-1.43-.59-.52 0-1.04.2-1.43.59L10.3 9.45l-7.72 7.72c-.78.78-.78 2.05 0 2.83L4 21.41c.39.39.9.59 1.41.59.51 0 1.02-.2 1.41-.59l7.78-7.78 2.81-2.81c.8-.78.8-2.07 0-2.86zM5.41 20L4 18.59l7.72-7.72 1.47 1.35L5.41 20z\"/>\n",
       "  </svg>\n",
       "      </button>\n",
       "      \n",
       "  <style>\n",
       "    .colab-df-container {\n",
       "      display:flex;\n",
       "      flex-wrap:wrap;\n",
       "      gap: 12px;\n",
       "    }\n",
       "\n",
       "    .colab-df-convert {\n",
       "      background-color: #E8F0FE;\n",
       "      border: none;\n",
       "      border-radius: 50%;\n",
       "      cursor: pointer;\n",
       "      display: none;\n",
       "      fill: #1967D2;\n",
       "      height: 32px;\n",
       "      padding: 0 0 0 0;\n",
       "      width: 32px;\n",
       "    }\n",
       "\n",
       "    .colab-df-convert:hover {\n",
       "      background-color: #E2EBFA;\n",
       "      box-shadow: 0px 1px 2px rgba(60, 64, 67, 0.3), 0px 1px 3px 1px rgba(60, 64, 67, 0.15);\n",
       "      fill: #174EA6;\n",
       "    }\n",
       "\n",
       "    [theme=dark] .colab-df-convert {\n",
       "      background-color: #3B4455;\n",
       "      fill: #D2E3FC;\n",
       "    }\n",
       "\n",
       "    [theme=dark] .colab-df-convert:hover {\n",
       "      background-color: #434B5C;\n",
       "      box-shadow: 0px 1px 3px 1px rgba(0, 0, 0, 0.15);\n",
       "      filter: drop-shadow(0px 1px 2px rgba(0, 0, 0, 0.3));\n",
       "      fill: #FFFFFF;\n",
       "    }\n",
       "  </style>\n",
       "\n",
       "      <script>\n",
       "        const buttonEl =\n",
       "          document.querySelector('#df-d356c325-31a3-4eff-abad-d37db1e52ef2 button.colab-df-convert');\n",
       "        buttonEl.style.display =\n",
       "          google.colab.kernel.accessAllowed ? 'block' : 'none';\n",
       "\n",
       "        async function convertToInteractive(key) {\n",
       "          const element = document.querySelector('#df-d356c325-31a3-4eff-abad-d37db1e52ef2');\n",
       "          const dataTable =\n",
       "            await google.colab.kernel.invokeFunction('convertToInteractive',\n",
       "                                                     [key], {});\n",
       "          if (!dataTable) return;\n",
       "\n",
       "          const docLinkHtml = 'Like what you see? Visit the ' +\n",
       "            '<a target=\"_blank\" href=https://colab.research.google.com/notebooks/data_table.ipynb>data table notebook</a>'\n",
       "            + ' to learn more about interactive tables.';\n",
       "          element.innerHTML = '';\n",
       "          dataTable['output_type'] = 'display_data';\n",
       "          await google.colab.output.renderOutput(dataTable, element);\n",
       "          const docLink = document.createElement('div');\n",
       "          docLink.innerHTML = docLinkHtml;\n",
       "          element.appendChild(docLink);\n",
       "        }\n",
       "      </script>\n",
       "    </div>\n",
       "  </div>\n",
       "  "
      ],
      "text/plain": [
       "                                          clean_text   term  polarity\n",
       "0  also becaus it is so thin it get cold veri qui...   NULL  negative\n",
       "1  also becaus it is so thin it get cold veri qui...   NULL  negative\n",
       "2                me and my girl will definit go back   NULL  positive\n",
       "3  i have to say i have never had a disapoint mea...   meal  positive\n",
       "4  the pizza and wine were excellent-th servic to...  Pizza  positive"
      ]
     },
     "execution_count": 181,
     "metadata": {},
     "output_type": "execute_result"
    }
   ],
   "source": [
    "train_polarity.head()"
   ]
  },
  {
   "cell_type": "code",
   "execution_count": 182,
   "metadata": {
    "id": "62JarWqc51rd"
   },
   "outputs": [],
   "source": [
    "test_text = test[\"clean_text\"]\n",
    "test_label = test[\"target_category_polarity\"]\n",
    "test_all = list(zip(test_text, test_label))\n",
    "df_cols = [\"clean_text\", \"term\", \"polarity\"]\n",
    "rows = []\n",
    "for row in test_all:\n",
    "  for item in row[1]:\n",
    "    rows.append({\"clean_text\": row[0], \"term\": item[0], \"polarity\": item[-1]})\n",
    "test_polarity = pd.DataFrame(rows, columns = df_cols)"
   ]
  },
  {
   "cell_type": "code",
   "execution_count": 183,
   "metadata": {
    "colab": {
     "base_uri": "https://localhost:8080/",
     "height": 206
    },
    "id": "0bWN_PRB6MNu",
    "outputId": "a285f493-d95e-4927-d7b5-2d241e5cf6c2"
   },
   "outputs": [
    {
     "data": {
      "text/html": [
       "\n",
       "  <div id=\"df-6f94e513-a43c-4c2f-ae67-51c326df800e\">\n",
       "    <div class=\"colab-df-container\">\n",
       "      <div>\n",
       "<style scoped>\n",
       "    .dataframe tbody tr th:only-of-type {\n",
       "        vertical-align: middle;\n",
       "    }\n",
       "\n",
       "    .dataframe tbody tr th {\n",
       "        vertical-align: top;\n",
       "    }\n",
       "\n",
       "    .dataframe thead th {\n",
       "        text-align: right;\n",
       "    }\n",
       "</style>\n",
       "<table border=\"1\" class=\"dataframe\">\n",
       "  <thead>\n",
       "    <tr style=\"text-align: right;\">\n",
       "      <th></th>\n",
       "      <th>clean_text</th>\n",
       "      <th>term</th>\n",
       "      <th>polarity</th>\n",
       "    </tr>\n",
       "  </thead>\n",
       "  <tbody>\n",
       "    <tr>\n",
       "      <th>0</th>\n",
       "      <td>howev onc i receiv my predict mediocr order of...</td>\n",
       "      <td>kimchee</td>\n",
       "      <td>negative</td>\n",
       "    </tr>\n",
       "    <tr>\n",
       "      <th>1</th>\n",
       "      <td>howev onc i receiv my predict mediocr order of...</td>\n",
       "      <td>Korean fair</td>\n",
       "      <td>negative</td>\n",
       "    </tr>\n",
       "    <tr>\n",
       "      <th>2</th>\n",
       "      <td>if you like your music blast and the system is...</td>\n",
       "      <td>bottle minimun</td>\n",
       "      <td>negative</td>\n",
       "    </tr>\n",
       "    <tr>\n",
       "      <th>3</th>\n",
       "      <td>if you like your music blast and the system is...</td>\n",
       "      <td>music</td>\n",
       "      <td>negative</td>\n",
       "    </tr>\n",
       "    <tr>\n",
       "      <th>4</th>\n",
       "      <td>the staff is no nonsens</td>\n",
       "      <td>staff</td>\n",
       "      <td>positive</td>\n",
       "    </tr>\n",
       "  </tbody>\n",
       "</table>\n",
       "</div>\n",
       "      <button class=\"colab-df-convert\" onclick=\"convertToInteractive('df-6f94e513-a43c-4c2f-ae67-51c326df800e')\"\n",
       "              title=\"Convert this dataframe to an interactive table.\"\n",
       "              style=\"display:none;\">\n",
       "        \n",
       "  <svg xmlns=\"http://www.w3.org/2000/svg\" height=\"24px\"viewBox=\"0 0 24 24\"\n",
       "       width=\"24px\">\n",
       "    <path d=\"M0 0h24v24H0V0z\" fill=\"none\"/>\n",
       "    <path d=\"M18.56 5.44l.94 2.06.94-2.06 2.06-.94-2.06-.94-.94-2.06-.94 2.06-2.06.94zm-11 1L8.5 8.5l.94-2.06 2.06-.94-2.06-.94L8.5 2.5l-.94 2.06-2.06.94zm10 10l.94 2.06.94-2.06 2.06-.94-2.06-.94-.94-2.06-.94 2.06-2.06.94z\"/><path d=\"M17.41 7.96l-1.37-1.37c-.4-.4-.92-.59-1.43-.59-.52 0-1.04.2-1.43.59L10.3 9.45l-7.72 7.72c-.78.78-.78 2.05 0 2.83L4 21.41c.39.39.9.59 1.41.59.51 0 1.02-.2 1.41-.59l7.78-7.78 2.81-2.81c.8-.78.8-2.07 0-2.86zM5.41 20L4 18.59l7.72-7.72 1.47 1.35L5.41 20z\"/>\n",
       "  </svg>\n",
       "      </button>\n",
       "      \n",
       "  <style>\n",
       "    .colab-df-container {\n",
       "      display:flex;\n",
       "      flex-wrap:wrap;\n",
       "      gap: 12px;\n",
       "    }\n",
       "\n",
       "    .colab-df-convert {\n",
       "      background-color: #E8F0FE;\n",
       "      border: none;\n",
       "      border-radius: 50%;\n",
       "      cursor: pointer;\n",
       "      display: none;\n",
       "      fill: #1967D2;\n",
       "      height: 32px;\n",
       "      padding: 0 0 0 0;\n",
       "      width: 32px;\n",
       "    }\n",
       "\n",
       "    .colab-df-convert:hover {\n",
       "      background-color: #E2EBFA;\n",
       "      box-shadow: 0px 1px 2px rgba(60, 64, 67, 0.3), 0px 1px 3px 1px rgba(60, 64, 67, 0.15);\n",
       "      fill: #174EA6;\n",
       "    }\n",
       "\n",
       "    [theme=dark] .colab-df-convert {\n",
       "      background-color: #3B4455;\n",
       "      fill: #D2E3FC;\n",
       "    }\n",
       "\n",
       "    [theme=dark] .colab-df-convert:hover {\n",
       "      background-color: #434B5C;\n",
       "      box-shadow: 0px 1px 3px 1px rgba(0, 0, 0, 0.15);\n",
       "      filter: drop-shadow(0px 1px 2px rgba(0, 0, 0, 0.3));\n",
       "      fill: #FFFFFF;\n",
       "    }\n",
       "  </style>\n",
       "\n",
       "      <script>\n",
       "        const buttonEl =\n",
       "          document.querySelector('#df-6f94e513-a43c-4c2f-ae67-51c326df800e button.colab-df-convert');\n",
       "        buttonEl.style.display =\n",
       "          google.colab.kernel.accessAllowed ? 'block' : 'none';\n",
       "\n",
       "        async function convertToInteractive(key) {\n",
       "          const element = document.querySelector('#df-6f94e513-a43c-4c2f-ae67-51c326df800e');\n",
       "          const dataTable =\n",
       "            await google.colab.kernel.invokeFunction('convertToInteractive',\n",
       "                                                     [key], {});\n",
       "          if (!dataTable) return;\n",
       "\n",
       "          const docLinkHtml = 'Like what you see? Visit the ' +\n",
       "            '<a target=\"_blank\" href=https://colab.research.google.com/notebooks/data_table.ipynb>data table notebook</a>'\n",
       "            + ' to learn more about interactive tables.';\n",
       "          element.innerHTML = '';\n",
       "          dataTable['output_type'] = 'display_data';\n",
       "          await google.colab.output.renderOutput(dataTable, element);\n",
       "          const docLink = document.createElement('div');\n",
       "          docLink.innerHTML = docLinkHtml;\n",
       "          element.appendChild(docLink);\n",
       "        }\n",
       "      </script>\n",
       "    </div>\n",
       "  </div>\n",
       "  "
      ],
      "text/plain": [
       "                                          clean_text            term  polarity\n",
       "0  howev onc i receiv my predict mediocr order of...         kimchee  negative\n",
       "1  howev onc i receiv my predict mediocr order of...     Korean fair  negative\n",
       "2  if you like your music blast and the system is...  bottle minimun  negative\n",
       "3  if you like your music blast and the system is...           music  negative\n",
       "4                            the staff is no nonsens           staff  positive"
      ]
     },
     "execution_count": 183,
     "metadata": {},
     "output_type": "execute_result"
    }
   ],
   "source": [
    "test_polarity.head()"
   ]
  },
  {
   "cell_type": "markdown",
   "metadata": {
    "id": "GnTeCm5AjjXX"
   },
   "source": [
    "# Concatenating text and term vectors\n"
   ]
  },
  {
   "cell_type": "code",
   "execution_count": 184,
   "metadata": {
    "colab": {
     "base_uri": "https://localhost:8080/"
    },
    "id": "yTgNLcXE93cj",
    "outputId": "793aa023-3149-4e75-fe48-9ecf8fbf6558"
   },
   "outputs": [
    {
     "name": "stdout",
     "output_type": "stream",
     "text": [
      "tfidf vector size for train_text (1973, 2274)\n",
      "tfidf vector size for train_term (1973, 2274)\n",
      "tfidf vector size after combining features (1973, 4548)\n"
     ]
    },
    {
     "data": {
      "text/plain": [
       "RandomForestClassifier()"
      ]
     },
     "execution_count": 184,
     "metadata": {},
     "output_type": "execute_result"
    }
   ],
   "source": [
    "# Train Dataset\n",
    "import numpy as np\n",
    "xtrain_text_tfidf = tfidf_vectorizer.transform(train_polarity[\"clean_text\"])\n",
    "xtrain_term_tfidf = tfidf_vectorizer.transform(train_polarity[\"term\"])\n",
    "print(\"tfidf vector size for train_text\", xtrain_text_tfidf.shape)\n",
    "print(\"tfidf vector size for train_term\", xtrain_term_tfidf.shape)\n",
    "\n",
    "combined_feat = np.hstack((xtrain_text_tfidf.toarray(),xtrain_term_tfidf.toarray()))\n",
    "print(\"tfidf vector size after combining features\", combined_feat.shape)\n",
    "\n",
    "rfc_model = RandomForestClassifier()\n",
    "rfc_model.fit(combined_feat, train_polarity[\"polarity\"])"
   ]
  },
  {
   "cell_type": "code",
   "execution_count": 185,
   "metadata": {
    "colab": {
     "base_uri": "https://localhost:8080/"
    },
    "id": "QFj3Q-e3Dsjw",
    "outputId": "b307ba84-01e3-4f3a-95fd-976c06729089"
   },
   "outputs": [
    {
     "name": "stdout",
     "output_type": "stream",
     "text": [
      "tfidf vector size for test_text (534, 2274)\n",
      "tfidf vector size for test_term (534, 2274)\n",
      "tfidf vector size after combining features (534, 4548)\n"
     ]
    }
   ],
   "source": [
    "# Test Dataset\n",
    "# Exercise\n",
    "xtest_text_tfidf = tfidf_vectorizer.transform(test_polarity[\"clean_text\"])\n",
    "xtest_term_tfidf = tfidf_vectorizer.transform(test_polarity[\"term\"])\n",
    "print(\"tfidf vector size for test_text\", xtest_text_tfidf.shape)\n",
    "print(\"tfidf vector size for test_term\", xtest_term_tfidf.shape)\n",
    "\n",
    "combined_feat = np.hstack((xtest_text_tfidf.toarray(),xtest_term_tfidf.toarray()))\n",
    "print(\"tfidf vector size after combining features\", combined_feat.shape)"
   ]
  },
  {
   "cell_type": "code",
   "execution_count": 186,
   "metadata": {
    "colab": {
     "base_uri": "https://localhost:8080/"
    },
    "id": "kpnMDAWtDfY5",
    "outputId": "63b35f6d-05df-424d-f029-3436ed8377ad"
   },
   "outputs": [
    {
     "name": "stdout",
     "output_type": "stream",
     "text": [
      "              precision    recall  f1-score   support\n",
      "\n",
      "    negative       0.61      0.42      0.50       159\n",
      "     neutral       0.40      0.09      0.15        22\n",
      "    positive       0.76      0.90      0.82       353\n",
      "\n",
      "    accuracy                           0.72       534\n",
      "   macro avg       0.59      0.47      0.49       534\n",
      "weighted avg       0.70      0.72      0.70       534\n",
      "\n"
     ]
    }
   ],
   "source": [
    "test_pred = rfc_model.predict(combined_feat)\n",
    "print(classification_report(test_polarity[\"polarity\"], test_pred))"
   ]
  },
  {
   "cell_type": "code",
   "execution_count": 187,
   "metadata": {
    "colab": {
     "base_uri": "https://localhost:8080/",
     "height": 250
    },
    "id": "q-Id6e1YGeSm",
    "outputId": "2b5a62c9-1227-4dad-bc6e-7e77a9931f2a"
   },
   "outputs": [
    {
     "data": {
      "text/plain": [
       "Text(0.5, 0.98, 'Sentiment Prediction Plotting')"
      ]
     },
     "execution_count": 187,
     "metadata": {},
     "output_type": "execute_result"
    },
    {
     "data": {
      "image/png": "[encoded data removed]",
      "text/plain": [
       "<Figure size 648x216 with 1 Axes>"
      ]
     },
     "metadata": {
      "needs_background": "light"
     },
     "output_type": "display_data"
    }
   ],
   "source": [
    "import matplotlib.pyplot as plt\n",
    "names = list(polarity_dict.keys())\n",
    "values = list(polarity_dict.values())\n",
    "fig, axs = plt.subplots(1, 1, figsize=(9, 3), sharey=True)\n",
    "axs.barh(names, values)\n",
    "fig.suptitle('Sentiment Prediction Plotting')"
   ]
  },
  {
   "cell_type": "markdown",
   "metadata": {
    "id": "YaIPBkPlhRa4"
   },
   "source": [
    "# 10. ABSA Inference for New Sentence"
   ]
  },
  {
   "cell_type": "code",
   "execution_count": 208,
   "metadata": {
    "colab": {
     "base_uri": "https://localhost:8080/"
    },
    "id": "zBGgH21zSQao",
    "outputId": "d3de6a2a-caec-4d3e-fca4-e4b4d41941ff"
   },
   "outputs": [
    {
     "data": {
      "text/plain": [
       "['wine', 'place']"
      ]
     },
     "execution_count": 208,
     "metadata": {},
     "output_type": "execute_result"
    }
   ],
   "source": [
    "# Get_aspect_terms_for_ne\n",
    "input_sentence = \"THe Pizza and wine were excellent-the service too--but what really MADE this place was the backyard dining area.\"\n",
    "#input_sentence = \"the was bad but not the\"\n",
    "import spacy\n",
    "nlp = spacy.load(\"en_core_web_sm\")\n",
    "review = nlp(input_sentence)\n",
    "chunks = [(chunk.root.text) for chunk in review.noun_chunks if chunk.root.pos_ == 'NOUN']\n",
    "aspect_terms = []\n",
    "for chunk in chunks:\n",
    "  if dict_freq_noun.get(chunk) is not None:\n",
    "    aspect_terms.append(chunk)\n",
    "aspect_terms"
   ]
  },
  {
   "cell_type": "code",
   "execution_count": 209,
   "metadata": {
    "id": "NPAUZ-D3X6y8"
   },
   "outputs": [],
   "source": [
    "input_sentence = [input_sentence]"
   ]
  },
  {
   "cell_type": "code",
   "execution_count": 211,
   "metadata": {
    "colab": {
     "base_uri": "https://localhost:8080/"
    },
    "id": "GGJtDW1e1ADx",
    "outputId": "839deda0-5efa-4d7d-8e4a-6a1d6e16562f"
   },
   "outputs": [
    {
     "name": "stdout",
     "output_type": "stream",
     "text": [
      "tfidf vector size for input_text (1, 2274)\n",
      "tfidf vector size for input_term (2, 2274)\n"
     ]
    }
   ],
   "source": [
    "xinput_text_tfidf = tfidf_vectorizer.transform(input_sentence)\n",
    "xinput_term_tfidf = tfidf_vectorizer.transform(aspect_terms)\n",
    "print(\"tfidf vector size for input_text\", xinput_text_tfidf.shape)\n",
    "print(\"tfidf vector size for input_term\", xinput_term_tfidf.shape)"
   ]
  },
  {
   "cell_type": "code",
   "execution_count": 212,
   "metadata": {
    "colab": {
     "base_uri": "https://localhost:8080/"
    },
    "id": "mz2ltZSxZM0I",
    "outputId": "9b8e6a2c-7da7-4ad8-f05d-c1a2ad4690b9"
   },
   "outputs": [
    {
     "name": "stdout",
     "output_type": "stream",
     "text": [
      "[[0.06051659 0.01       0.92948341]]\n",
      "['the pizza and wine were excellent-the service too--but what really made this place was the backyard dining area.']: wine: ['positive']\n",
      "[[0.0925 0.01   0.8975]]\n",
      "['the pizza and wine were excellent-the service too--but what really made this place was the backyard dining area.']: place: ['positive']\n"
     ]
    }
   ],
   "source": [
    "if len(aspect_terms) == 0:\n",
    "  xinput_term_tfidf = tfidf_vectorizer.transform([\"NULL\"])\n",
    "  combined_feat = np.hstack((xinput_text_tfidf.toarray(), xinput_term_tfidf.toarray()))\n",
    "  input_pred = rfc_model.predict(combined_feat)\n",
    "  print(f'{input_sentence}: NULL: {input_pred}')\n",
    "else:\n",
    "  for term in aspect_terms:\n",
    "    # Exercise\n",
    "    xinput_term_tfidf = tfidf_vectorizer.transform([term])\n",
    "    combined_feat = np.hstack((xinput_text_tfidf.toarray(), xinput_term_tfidf.toarray()))\n",
    "    input_pred = rfc_model.predict(combined_feat)\n",
    "    print(rfc_model.predict_proba(combined_feat))\n",
    "    print(f'{input_sentence}: {term}: {input_pred}')"
   ]
  }
 ],
 "metadata": {
  "colab": {
   "provenance": []
  },
  "kernelspec": {
   "display_name": "Python 3 (ipykernel)",
   "language": "python",
   "name": "python3"
  },
  "language_info": {
   "codemirror_mode": {
    "name": "ipython",
    "version": 3
   },
   "file_extension": ".py",
   "mimetype": "text/x-python",
   "name": "python",
   "nbconvert_exporter": "python",
   "pygments_lexer": "ipython3",
   "version": "3.10.5"
  }
 },
 "nbformat": 4,
 "nbformat_minor": 1
}
